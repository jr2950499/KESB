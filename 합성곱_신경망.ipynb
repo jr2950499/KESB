{
  "nbformat": 4,
  "nbformat_minor": 0,
  "metadata": {
    "colab": {
      "provenance": [],
      "gpuType": "T4",
      "mount_file_id": "1Sauzx36CGxd0JS74Xhf3piAMUO-vLmcO",
      "authorship_tag": "ABX9TyNl8vW8lVWMeP6MkO4K8Msh",
      "include_colab_link": true
    },
    "kernelspec": {
      "name": "python3",
      "display_name": "Python 3"
    },
    "language_info": {
      "name": "python"
    },
    "accelerator": "GPU"
  },
  "cells": [
    {
      "cell_type": "markdown",
      "metadata": {
        "id": "view-in-github",
        "colab_type": "text"
      },
      "source": [
        "<a href=\"https://colab.research.google.com/github/jr2950499/KESB/blob/main/%ED%95%A9%EC%84%B1%EA%B3%B1_%EC%8B%A0%EA%B2%BD%EB%A7%9D.ipynb\" target=\"_parent\"><img src=\"https://colab.research.google.com/assets/colab-badge.svg\" alt=\"Open In Colab\"/></a>"
      ]
    },
    {
      "cell_type": "markdown",
      "source": [
        "### 1. 데이터 불러오기"
      ],
      "metadata": {
        "id": "tknGlcHN1enS"
      }
    },
    {
      "cell_type": "code",
      "execution_count": null,
      "metadata": {
        "id": "mvkGvqDYxrFf"
      },
      "outputs": [],
      "source": [
        "#행과열을 다루는 라이브러리\n",
        "import pandas as pd\n",
        "#수를 다루는 라이브러리\n",
        "import numpy as np\n",
        "#시각화 라이브러리\n",
        "import matplotlib.pyplot as plf"
      ]
    },
    {
      "cell_type": "code",
      "source": [
        "# 딥러닝 tenserflow 상위 API 라이브러리\n",
        "from tensorflow import keras\n",
        "\n",
        "#Sequential 하게 쌓아가는 레이어중 일부\n",
        "from tensorflow.keras.layers import Dense, Conv2D, MaxPooling2D, Dropout,Flatten\n",
        "\n",
        "#층층 딥러닝 모델 쌓아가는 라이브러리\n",
        "from tensorflow.keras import Sequential"
      ],
      "metadata": {
        "id": "Rlw0Usux0j1e"
      },
      "execution_count": null,
      "outputs": []
    },
    {
      "cell_type": "code",
      "source": [
        "(x_train, y_train), (x_test, y_test) = keras.datasets.fashion_mnist.load_data()"
      ],
      "metadata": {
        "colab": {
          "base_uri": "https://localhost:8080/"
        },
        "id": "ZDbq0dDv0017",
        "outputId": "249d3657-1c5a-4297-d346-eda597236777"
      },
      "execution_count": null,
      "outputs": [
        {
          "output_type": "stream",
          "name": "stdout",
          "text": [
            "Downloading data from https://storage.googleapis.com/tensorflow/tf-keras-datasets/train-labels-idx1-ubyte.gz\n",
            "29515/29515 [==============================] - 0s 0us/step\n",
            "Downloading data from https://storage.googleapis.com/tensorflow/tf-keras-datasets/train-images-idx3-ubyte.gz\n",
            "26421880/26421880 [==============================] - 0s 0us/step\n",
            "Downloading data from https://storage.googleapis.com/tensorflow/tf-keras-datasets/t10k-labels-idx1-ubyte.gz\n",
            "5148/5148 [==============================] - 0s 0us/step\n",
            "Downloading data from https://storage.googleapis.com/tensorflow/tf-keras-datasets/t10k-images-idx3-ubyte.gz\n",
            "4422102/4422102 [==============================] - 0s 0us/step\n"
          ]
        }
      ]
    },
    {
      "cell_type": "code",
      "source": [
        "x_train.shape"
      ],
      "metadata": {
        "colab": {
          "base_uri": "https://localhost:8080/"
        },
        "id": "5N3CT3A32CTH",
        "outputId": "1f80ef18-2c71-41a9-ef83-f533d4a31ff0"
      },
      "execution_count": null,
      "outputs": [
        {
          "output_type": "execute_result",
          "data": {
            "text/plain": [
              "(60000, 28, 28)"
            ]
          },
          "metadata": {},
          "execution_count": 4
        }
      ]
    },
    {
      "cell_type": "code",
      "source": [
        "y_train[100]"
      ],
      "metadata": {
        "colab": {
          "base_uri": "https://localhost:8080/"
        },
        "id": "iYdY8fiQ276y",
        "outputId": "d0d8da18-27f4-4558-9e60-e53f06a8835e"
      },
      "execution_count": null,
      "outputs": [
        {
          "output_type": "execute_result",
          "data": {
            "text/plain": [
              "8"
            ]
          },
          "metadata": {},
          "execution_count": 5
        }
      ]
    },
    {
      "cell_type": "code",
      "source": [
        "x_train[100]"
      ],
      "metadata": {
        "colab": {
          "base_uri": "https://localhost:8080/",
          "height": 66
        },
        "id": "XlgDEoAr3ECN",
        "outputId": "fe83741a-d0bc-4cff-bf26-2a176a76ed17"
      },
      "execution_count": null,
      "outputs": [
        {
          "output_type": "execute_result",
          "data": {
            "text/plain": [
              "array([[  0,   0,   0,   0,   0,   0,   0,   0,   0,   1,   0,   0,  18,\n",
              "        107, 119, 103,   9,   0,   0,   0,   0,   0,   0,   0,   0,   0,\n",
              "          0,   0],\n",
              "       [  0,   0,   0,   0,   0,   0,   0,   0,   0,   0,   0,  99, 155,\n",
              "        113,  61, 118, 173, 117,   0,   0,   3,   0,   0,   0,   0,   0,\n",
              "          0,   0],\n",
              "       [  0,   0,   0,   0,   0,   0,   0,   0,   1,   0, 110, 136,   0,\n",
              "          0,   0,   0,   0, 167, 159,   0,   0,   2,   0,   0,   0,   0,\n",
              "          0,   0],\n",
              "       [  0,   0,   0,   0,   0,   1,   0,   6,   0,  72, 147,   0,   0,\n",
              "          5,   0,   2,   0,   0, 174, 118,   0,   5,   0,   0,   0,   0,\n",
              "          0,   0],\n",
              "       [  0,   0,   0,   0,   0,   1,   5,   0,   0, 174,   4,   0,   4,\n",
              "          0,   0,   0,   0,   0,   0, 204,  44,   0,   4,   0,   0,   0,\n",
              "          0,   0],\n",
              "       [  0,   0,   0,   0,   0,   0,   8,   0, 125, 128,   0,   9,   0,\n",
              "          0,   0,   0,   0,   2,   0, 107, 152,   0,   6,   0,   0,   0,\n",
              "          0,   0],\n",
              "       [  0,   0,   0,   0,   0,   0,   0,   0, 184,   9,   0,   4,   0,\n",
              "          0,   0,   0,   0,   2,   0,   0, 190,   0,   0,   2,   0,   0,\n",
              "          0,   0],\n",
              "       [  0,   0,   0,   1,   0,   2,   0,  73, 158,   0,   0,   0,   0,\n",
              "          1,   0,   0,   0,   0,   4,   0, 157,  79,   0,   3,   1,   0,\n",
              "          0,   0],\n",
              "       [  0,   0,   2,   5,   1,   0,   0, 157,  98,   0,   2,   0,   0,\n",
              "          1,   0,   0,   0,   0,   5,   0, 121, 145,   0,   0,   0,   0,\n",
              "          0,   0],\n",
              "       [  0,   0,   0,   0,   0,   0,   0, 231,  84,   0,   2,   1,   1,\n",
              "          0,   0,   0,   0,   0,   1,   0,  92, 223,  16,   0,   7,   4,\n",
              "          1,   0],\n",
              "       [  0,   0,   0,   0,   0,   0,  38, 183,  81,   0,   0,   0,   2,\n",
              "          2,   1,   2,   1,   0,   1,   0, 120, 226,  57,   0,   0,   0,\n",
              "          0,   0],\n",
              "       [  0,   0, 173, 216, 193, 213, 183, 164, 167,  98,  16,   0,   0,\n",
              "          0,   0,   0,   0,   0,   0,   0, 107, 141, 111,  91,  90, 108,\n",
              "         50,   0],\n",
              "       [  0,   0, 185, 221, 217, 210, 202, 222, 200, 206, 202, 204, 109,\n",
              "         27,  12,  17,  61, 136, 180, 221, 202, 225, 208, 214, 223, 240,\n",
              "        162,   0],\n",
              "       [  0,   0, 183, 220, 205, 200, 193, 184, 189, 182, 173, 194, 215,\n",
              "        216, 205, 207, 207, 195, 185, 194, 194, 203, 212, 183, 193, 211,\n",
              "        153,   0],\n",
              "       [  0,   0, 190, 233, 203, 206, 214, 216, 195, 183, 176, 159, 175,\n",
              "        189, 202, 195, 186, 186, 182, 186, 195, 209, 235, 203, 202, 215,\n",
              "        136,   0],\n",
              "       [  0,   0, 180, 228, 201, 202, 188, 183, 178, 192, 186, 181, 181,\n",
              "        177, 204, 217, 175, 179, 184, 176, 166, 169, 175, 185, 152, 203,\n",
              "        107,   0],\n",
              "       [  0,   0, 167, 235, 200, 207, 207, 209, 207, 203, 198, 189, 182,\n",
              "        178, 186, 189, 178, 192, 197, 195, 192, 185, 184, 205, 187, 255,\n",
              "         61,   0],\n",
              "       [  0,   0, 152, 250, 208, 214, 209, 202, 200, 202, 205, 204, 200,\n",
              "        192, 198, 204, 195, 205, 206, 198, 199, 203, 214, 207, 179, 249,\n",
              "         55,   0],\n",
              "       [  0,   0, 126, 255, 211, 215, 210, 206, 203, 203, 203, 206, 204,\n",
              "        199, 206, 207, 200, 206, 201, 199, 202, 208, 215, 195, 174, 211,\n",
              "         15,   0],\n",
              "       [  0,   0, 107, 255, 212, 211, 210, 211, 208, 206, 206, 207, 208,\n",
              "        208, 217, 214, 205, 206, 204, 208, 211, 211, 220, 197, 182, 225,\n",
              "          0,   0],\n",
              "       [  0,   0,  63, 232, 211, 216, 212, 214, 212, 212, 214, 212, 211,\n",
              "        212, 223, 219, 210, 214, 213, 212, 211, 209, 217, 208, 168, 190,\n",
              "          0,   0],\n",
              "       [  0,   0,  14, 255, 218, 221, 215, 218, 218, 217, 215, 213, 211,\n",
              "        215, 228, 220, 216, 222, 217, 217, 216, 218, 212, 213, 189, 143,\n",
              "          0,   0],\n",
              "       [  0,   0,   0, 230, 227, 214, 217, 218, 216, 217, 217, 214, 216,\n",
              "        222, 226, 218, 218, 220, 219, 218, 217, 218, 217, 215, 216, 113,\n",
              "          0,   0],\n",
              "       [  0,   0,   0, 177, 233, 216, 223, 222, 213, 213, 215, 212, 220,\n",
              "        226, 221, 220, 221, 218, 222, 220, 220, 221, 217, 212, 219,  52,\n",
              "          0,   0],\n",
              "       [  0,   0,   0,  10, 223, 222, 220, 211, 213, 215, 220, 222, 226,\n",
              "        226, 221, 223, 222, 222, 221, 218, 220, 219, 220, 223, 174,   0,\n",
              "          0,   0],\n",
              "       [  0,   0,   0,   0, 126, 241, 208, 210, 214, 214, 216, 216, 220,\n",
              "        220, 214, 213, 212, 212, 210, 215, 217, 218, 215, 236,  42,   0,\n",
              "          1,   0],\n",
              "       [  0,   0,   0,   0,   0, 188, 237, 230, 233, 255, 255, 255, 255,\n",
              "        255, 255, 255, 255, 255, 255, 255, 231, 229, 239, 161,   0,   0,\n",
              "          0,   0],\n",
              "       [  0,   0,   0,   0,   0,   0,  63,  95, 108, 105, 100, 103, 104,\n",
              "        105, 102, 100,  98,  97,  96,  90,  80,  83,  60,   0,   0,   0,\n",
              "          0,   0]], dtype=uint8)"
            ],
            "text/html": [
              "<style>\n",
              "      .ndarray_repr .ndarray_raw_data {\n",
              "        display: none;\n",
              "      }\n",
              "      .ndarray_repr.show_array .ndarray_raw_data {\n",
              "        display: block;\n",
              "      }\n",
              "      .ndarray_repr.show_array .ndarray_image_preview {\n",
              "        display: none;\n",
              "      }\n",
              "      </style>\n",
              "      <div id=\"id-a071e87a-3ab8-4a9c-8efb-049087d9fd1f\" class=\"ndarray_repr\"><pre>ndarray (28, 28) <button style=\"padding: 0 2px;\">show data</button></pre><img src=\"data:image/png;base64,iVBORw0KGgoAAAANSUhEUgAAABwAAAAcCAAAAABXZoBIAAACJklEQVR4nF2Su2tUYRDFf/O9Npu4SczDFFqIiCCm016w8gEKYmNjY2fEQtBKe639A0JEsDKFlaLYGNIoRkVFgjGYkITEbF5u7u7de+83FpuH8VQz58w5DMwI2xCl5+q+tcf1HQazUynXH4bxrid3wPIfhFsPAHg6/K8FEAJnH4HHwOhd/B7Rw6jDtbr3g1tVK0At9z/n5bzFDN/cmwsvyrvjb7ZMBhAM5+br5AgQHdOXEGmJxknkythOlPDjDIW2xJgpnN8AEQXImb3YTcnJ9vixjwVRxYgR4JA9TporAs9OLPbNVO2r0bXt5YaOzCxrz/gHgZdH87TRtxRyMzK67gcvDB6vDqyG8v7n1xxErWXppF+p998Y2jTUkjmWyr/aa3UclCqrodP8btqpamclqVM0ymGgrm4VB0kWdT7LOq2n1nXgm/PJsv3ZPn1yFgd/Shp6TcxDPZWVdVvxHd2p9plTt3Gw3tUWsjSaUsgbIYR2abiOjrTRbOJg3lsRVxCtK5XESybWSy2b/I6DKpLjTUScKxcRW7J409a5joMvi+pzI5ioEvLcqWosOmanwMHEwIZVi0ZR64sQMtQ0ff8nMLCxUE4NESO+FKOJRgRvDs607vkumOCKPEbnMmOjNdZS2LcgQPtXjXVjvHFkRtHCqNiJyy1nMtxbU9G82WymSZJsFoVmlXvI1o1eV+cXdRcLc6sjrZ8A4PThSpFZkSJG1WZiF8cA/gKlefUNDjNR0gAAAABJRU5ErkJggg==\" class=\"ndarray_image_preview\" /><pre class=\"ndarray_raw_data\">array([[  0,   0,   0,   0,   0,   0,   0,   0,   0,   1,   0,   0,  18,\n",
              "        107, 119, 103,   9,   0,   0,   0,   0,   0,   0,   0,   0,   0,\n",
              "          0,   0],\n",
              "       [  0,   0,   0,   0,   0,   0,   0,   0,   0,   0,   0,  99, 155,\n",
              "        113,  61, 118, 173, 117,   0,   0,   3,   0,   0,   0,   0,   0,\n",
              "          0,   0],\n",
              "       [  0,   0,   0,   0,   0,   0,   0,   0,   1,   0, 110, 136,   0,\n",
              "          0,   0,   0,   0, 167, 159,   0,   0,   2,   0,   0,   0,   0,\n",
              "          0,   0],\n",
              "       [  0,   0,   0,   0,   0,   1,   0,   6,   0,  72, 147,   0,   0,\n",
              "          5,   0,   2,   0,   0, 174, 118,   0,   5,   0,   0,   0,   0,\n",
              "          0,   0],\n",
              "       [  0,   0,   0,   0,   0,   1,   5,   0,   0, 174,   4,   0,   4,\n",
              "          0,   0,   0,   0,   0,   0, 204,  44,   0,   4,   0,   0,   0,\n",
              "          0,   0],\n",
              "       [  0,   0,   0,   0,   0,   0,   8,   0, 125, 128,   0,   9,   0,\n",
              "          0,   0,   0,   0,   2,   0, 107, 152,   0,   6,   0,   0,   0,\n",
              "          0,   0],\n",
              "       [  0,   0,   0,   0,   0,   0,   0,   0, 184,   9,   0,   4,   0,\n",
              "          0,   0,   0,   0,   2,   0,   0, 190,   0,   0,   2,   0,   0,\n",
              "          0,   0],\n",
              "       [  0,   0,   0,   1,   0,   2,   0,  73, 158,   0,   0,   0,   0,\n",
              "          1,   0,   0,   0,   0,   4,   0, 157,  79,   0,   3,   1,   0,\n",
              "          0,   0],\n",
              "       [  0,   0,   2,   5,   1,   0,   0, 157,  98,   0,   2,   0,   0,\n",
              "          1,   0,   0,   0,   0,   5,   0, 121, 145,   0,   0,   0,   0,\n",
              "          0,   0],\n",
              "       [  0,   0,   0,   0,   0,   0,   0, 231,  84,   0,   2,   1,   1,\n",
              "          0,   0,   0,   0,   0,   1,   0,  92, 223,  16,   0,   7,   4,\n",
              "          1,   0],\n",
              "       [  0,   0,   0,   0,   0,   0,  38, 183,  81,   0,   0,   0,   2,\n",
              "          2,   1,   2,   1,   0,   1,   0, 120, 226,  57,   0,   0,   0,\n",
              "          0,   0],\n",
              "       [  0,   0, 173, 216, 193, 213, 183, 164, 167,  98,  16,   0,   0,\n",
              "          0,   0,   0,   0,   0,   0,   0, 107, 141, 111,  91,  90, 108,\n",
              "         50,   0],\n",
              "       [  0,   0, 185, 221, 217, 210, 202, 222, 200, 206, 202, 204, 109,\n",
              "         27,  12,  17,  61, 136, 180, 221, 202, 225, 208, 214, 223, 240,\n",
              "        162,   0],\n",
              "       [  0,   0, 183, 220, 205, 200, 193, 184, 189, 182, 173, 194, 215,\n",
              "        216, 205, 207, 207, 195, 185, 194, 194, 203, 212, 183, 193, 211,\n",
              "        153,   0],\n",
              "       [  0,   0, 190, 233, 203, 206, 214, 216, 195, 183, 176, 159, 175,\n",
              "        189, 202, 195, 186, 186, 182, 186, 195, 209, 235, 203, 202, 215,\n",
              "        136,   0],\n",
              "       [  0,   0, 180, 228, 201, 202, 188, 183, 178, 192, 186, 181, 181,\n",
              "        177, 204, 217, 175, 179, 184, 176, 166, 169, 175, 185, 152, 203,\n",
              "        107,   0],\n",
              "       [  0,   0, 167, 235, 200, 207, 207, 209, 207, 203, 198, 189, 182,\n",
              "        178, 186, 189, 178, 192, 197, 195, 192, 185, 184, 205, 187, 255,\n",
              "         61,   0],\n",
              "       [  0,   0, 152, 250, 208, 214, 209, 202, 200, 202, 205, 204, 200,\n",
              "        192, 198, 204, 195, 205, 206, 198, 199, 203, 214, 207, 179, 249,\n",
              "         55,   0],\n",
              "       [  0,   0, 126, 255, 211, 215, 210, 206, 203, 203, 203, 206, 204,\n",
              "        199, 206, 207, 200, 206, 201, 199, 202, 208, 215, 195, 174, 211,\n",
              "         15,   0],\n",
              "       [  0,   0, 107, 255, 212, 211, 210, 211, 208, 206, 206, 207, 208,\n",
              "        208, 217, 214, 205, 206, 204, 208, 211, 211, 220, 197, 182, 225,\n",
              "          0,   0],\n",
              "       [  0,   0,  63, 232, 211, 216, 212, 214, 212, 212, 214, 212, 211,\n",
              "        212, 223, 219, 210, 214, 213, 212, 211, 209, 217, 208, 168, 190,\n",
              "          0,   0],\n",
              "       [  0,   0,  14, 255, 218, 221, 215, 218, 218, 217, 215, 213, 211,\n",
              "        215, 228, 220, 216, 222, 217, 217, 216, 218, 212, 213, 189, 143,\n",
              "          0,   0],\n",
              "       [  0,   0,   0, 230, 227, 214, 217, 218, 216, 217, 217, 214, 216,\n",
              "        222, 226, 218, 218, 220, 219, 218, 217, 218, 217, 215, 216, 113,\n",
              "          0,   0],\n",
              "       [  0,   0,   0, 177, 233, 216, 223, 222, 213, 213, 215, 212, 220,\n",
              "        226, 221, 220, 221, 218, 222, 220, 220, 221, 217, 212, 219,  52,\n",
              "          0,   0],\n",
              "       [  0,   0,   0,  10, 223, 222, 220, 211, 213, 215, 220, 222, 226,\n",
              "        226, 221, 223, 222, 222, 221, 218, 220, 219, 220, 223, 174,   0,\n",
              "          0,   0],\n",
              "       [  0,   0,   0,   0, 126, 241, 208, 210, 214, 214, 216, 216, 220,\n",
              "        220, 214, 213, 212, 212, 210, 215, 217, 218, 215, 236,  42,   0,\n",
              "          1,   0],\n",
              "       [  0,   0,   0,   0,   0, 188, 237, 230, 233, 255, 255, 255, 255,\n",
              "        255, 255, 255, 255, 255, 255, 255, 231, 229, 239, 161,   0,   0,\n",
              "          0,   0],\n",
              "       [  0,   0,   0,   0,   0,   0,  63,  95, 108, 105, 100, 103, 104,\n",
              "        105, 102, 100,  98,  97,  96,  90,  80,  83,  60,   0,   0,   0,\n",
              "          0,   0]], dtype=uint8)</pre></div><script>\n",
              "      (() => {\n",
              "      const titles = ['show data', 'hide data'];\n",
              "      let index = 0\n",
              "      document.querySelector('#id-a071e87a-3ab8-4a9c-8efb-049087d9fd1f button').onclick = (e) => {\n",
              "        document.querySelector('#id-a071e87a-3ab8-4a9c-8efb-049087d9fd1f').classList.toggle('show_array');\n",
              "        index = (++index) % 2;\n",
              "        document.querySelector('#id-a071e87a-3ab8-4a9c-8efb-049087d9fd1f button').textContent = titles[index];\n",
              "        e.preventDefault();\n",
              "        e.stopPropagation();\n",
              "      }\n",
              "      })();\n",
              "    </script>"
            ]
          },
          "metadata": {},
          "execution_count": 6
        }
      ]
    },
    {
      "cell_type": "code",
      "source": [
        "import matplotlib.pyplot as plt\n",
        "\n",
        "plt.imshow (x_train[100] )"
      ],
      "metadata": {
        "colab": {
          "base_uri": "https://localhost:8080/",
          "height": 448
        },
        "id": "iH1oQtI92cud",
        "outputId": "66e067f1-0c26-40ed-d657-a601d494b73f"
      },
      "execution_count": null,
      "outputs": [
        {
          "output_type": "execute_result",
          "data": {
            "text/plain": [
              "<matplotlib.image.AxesImage at 0x7941a7264700>"
            ]
          },
          "metadata": {},
          "execution_count": 7
        },
        {
          "output_type": "display_data",
          "data": {
            "text/plain": [
              "<Figure size 640x480 with 1 Axes>"
            ],
            "image/png": "[encoded data removed]"
          },
          "metadata": {}
        }
      ]
    },
    {
      "cell_type": "code",
      "source": [
        "fashion_mnist_labels = [\"T-shirt/top\", # 인덱스 0\n",
        "\"Trouser\", # 인덱스 1\n",
        "\"Pullover\", # 인덱스 2\n",
        "\"Dress\", # 인덱스 3\n",
        "\"Coat\", # 인덱스 4\n",
        "\"Sandal\", # 인덱스 5\n",
        "\"Shirt\", # 인덱스 6\n",
        "\"Sneaker\", # 인덱스 7\n",
        "\"Bag\", # 인덱스 8\n",
        "\"Ankle boot\"] # 인덱스 9\n",
        "img_index = 106\n",
        "label_index = y_train[img_index]\n",
        "plt.imshow(x_train[img_index])"
      ],
      "metadata": {
        "colab": {
          "base_uri": "https://localhost:8080/",
          "height": 448
        },
        "id": "99wzrpjg2qeo",
        "outputId": "4b0b9551-91f1-48cd-d973-a218a27b6b61"
      },
      "execution_count": null,
      "outputs": [
        {
          "output_type": "execute_result",
          "data": {
            "text/plain": [
              "<matplotlib.image.AxesImage at 0x7941a3ce62f0>"
            ]
          },
          "metadata": {},
          "execution_count": 8
        },
        {
          "output_type": "display_data",
          "data": {
            "text/plain": [
              "<Figure size 640x480 with 1 Axes>"
            ],
            "image/png": "[encoded data removed]"
          },
          "metadata": {}
        }
      ]
    },
    {
      "cell_type": "markdown",
      "source": [
        "### 2. 데이터 전처리"
      ],
      "metadata": {
        "id": "qJscWYfW5K7I"
      }
    },
    {
      "cell_type": "code",
      "source": [
        "x_train.shape[0]"
      ],
      "metadata": {
        "colab": {
          "base_uri": "https://localhost:8080/"
        },
        "id": "t7uY-U4T5knC",
        "outputId": "e9c951b0-b6de-40fd-9815-a2f90fa4b77b"
      },
      "execution_count": null,
      "outputs": [
        {
          "output_type": "execute_result",
          "data": {
            "text/plain": [
              "60000"
            ]
          },
          "metadata": {},
          "execution_count": 9
        }
      ]
    },
    {
      "cell_type": "code",
      "source": [
        "X=28\n",
        "Y=28"
      ],
      "metadata": {
        "id": "_F37tc365pLy"
      },
      "execution_count": null,
      "outputs": []
    },
    {
      "cell_type": "code",
      "source": [
        "## input shape을 depth 포함해서 늘려준다 (전체 이미지 개수, 높이, 세로, 가로, 너비)\n",
        "refinedXtrain = x_train.reshape(x_train.shape[0], X, Y, 1)\n",
        "refinedXtest = x_test.reshape(x_test.shape[0], X, Y, 1)"
      ],
      "metadata": {
        "id": "QutuFFCk3K5M"
      },
      "execution_count": null,
      "outputs": []
    },
    {
      "cell_type": "code",
      "source": [
        "## 정답지는 onehot encoding 으로 softmax와 동일하게 맞춰준다"
      ],
      "metadata": {
        "id": "2sDhMJzx6Oqc"
      },
      "execution_count": null,
      "outputs": []
    },
    {
      "cell_type": "code",
      "source": [
        "refinedYtrain = keras.utils.to_categorical(y_train)\n",
        "refinedYtest = keras.utils.to_categorical(y_test)"
      ],
      "metadata": {
        "id": "xcDh6rCi6DbO"
      },
      "execution_count": null,
      "outputs": []
    },
    {
      "cell_type": "code",
      "source": [
        "from sklearn.preprocessing import"
      ],
      "metadata": {
        "colab": {
          "base_uri": "https://localhost:8080/",
          "height": 111
        },
        "id": "63ShBN7o6DZQ",
        "outputId": "5f67c107-16e7-4445-a439-f6b68c78c9cb"
      },
      "execution_count": null,
      "outputs": [
        {
          "output_type": "error",
          "ename": "SyntaxError",
          "evalue": "invalid syntax (<ipython-input-16-6029c303bd0d>, line 1)",
          "traceback": [
            "\u001b[0;36m  File \u001b[0;32m\"<ipython-input-16-6029c303bd0d>\"\u001b[0;36m, line \u001b[0;32m1\u001b[0m\n\u001b[0;31m    from sklearn.preprocessing import\u001b[0m\n\u001b[0m                                     ^\u001b[0m\n\u001b[0;31mSyntaxError\u001b[0m\u001b[0;31m:\u001b[0m invalid syntax\n"
          ]
        }
      ]
    },
    {
      "cell_type": "code",
      "source": [
        "refinedXtrain.shape"
      ],
      "metadata": {
        "colab": {
          "base_uri": "https://localhost:8080/"
        },
        "id": "-imRloqd6oGZ",
        "outputId": "5c70ea3e-5a94-4745-eb08-569d1f034304"
      },
      "execution_count": null,
      "outputs": [
        {
          "output_type": "execute_result",
          "data": {
            "text/plain": [
              "(60000, 28, 28, 1)"
            ]
          },
          "metadata": {},
          "execution_count": 17
        }
      ]
    },
    {
      "cell_type": "code",
      "source": [
        "inputImgshape= refinedXtrain[0].shape\n",
        "inputImgshape"
      ],
      "metadata": {
        "colab": {
          "base_uri": "https://localhost:8080/"
        },
        "id": "OE2PEeKWBfdd",
        "outputId": "a98d7812-8646-4a80-c42b-56fd4b74996f"
      },
      "execution_count": null,
      "outputs": [
        {
          "output_type": "execute_result",
          "data": {
            "text/plain": [
              "(28, 28, 1)"
            ]
          },
          "metadata": {},
          "execution_count": 18
        }
      ]
    },
    {
      "cell_type": "markdown",
      "source": [
        "###3.  모델생성\n"
      ],
      "metadata": {
        "id": "GXljTieMAZvu"
      }
    },
    {
      "cell_type": "code",
      "source": [
        "#### con2-> maxpoo->con2->maxpool->flatten->dropout->softmax"
      ],
      "metadata": {
        "id": "YOMyTN_D_jme"
      },
      "execution_count": null,
      "outputs": []
    },
    {
      "cell_type": "code",
      "source": [
        "model = Sequential()"
      ],
      "metadata": {
        "id": "2PgomYC2AkW6"
      },
      "execution_count": null,
      "outputs": []
    },
    {
      "cell_type": "code",
      "source": [
        "### 인풋레이어\n",
        "model.add(Conv2D(filters=32,                # 특성판별 필터 (weight)\n",
        "                 kernel_size=3,              # 필터의 크기 (3x3 필터로 특성 찾기)\n",
        "                 padding=\"same\",             # 인풋 이미지 크기 유지\n",
        "                 activation=\"relu\",          # 활성화 함수\n",
        "                 input_shape=inputImgshape)) # 입력 이미지의 형태"
      ],
      "metadata": {
        "id": "RntC4MKCAmnl"
      },
      "execution_count": null,
      "outputs": []
    },
    {
      "cell_type": "code",
      "source": [
        "model.add(MaxPooling2D(pool_size=2))"
      ],
      "metadata": {
        "id": "ruJ7V_LkCmjn"
      },
      "execution_count": null,
      "outputs": []
    },
    {
      "cell_type": "code",
      "source": [
        "### 히든레이어\n",
        "model.add(Conv2D(filters=32,                # 특성판별 필터 (weight)\n",
        "                 kernel_size=3,              # 필터의 크기 (3x3 필터로 특성 찾기)\n",
        "                 padding=\"same\",             # 인풋 이미지 크기 유지\n",
        "                 activation=\"relu\"))         # 활성화 함수\n",
        "\n",
        "### 히든레이어\n",
        "model.add(Conv2D(filters=32,                # 특성판별 필터 (weight)\n",
        "                 kernel_size=3,              # 필터의 크기 (3x3 필터로 특성 찾기)\n",
        "                 padding=\"same\",             # 인풋 이미지 크기 유지\n",
        "                 activation=\"relu\"))         # 활성화 함수"
      ],
      "metadata": {
        "id": "GK6EQICKAnga"
      },
      "execution_count": null,
      "outputs": []
    },
    {
      "cell_type": "code",
      "source": [
        "### 출력레이어"
      ],
      "metadata": {
        "id": "tR_e5GPbF_uO"
      },
      "execution_count": null,
      "outputs": []
    },
    {
      "cell_type": "code",
      "source": [
        "model.add(MaxPooling2D(pool_size=2))"
      ],
      "metadata": {
        "id": "nzgzcxJnCjhX"
      },
      "execution_count": null,
      "outputs": []
    },
    {
      "cell_type": "code",
      "source": [
        "model.add(Flatten())"
      ],
      "metadata": {
        "id": "or7Tt9awD8NY"
      },
      "execution_count": null,
      "outputs": []
    },
    {
      "cell_type": "code",
      "source": [
        "model.add(Dropout(rate= 0.7)) #남길 비율"
      ],
      "metadata": {
        "id": "yDN64G4iD_E7"
      },
      "execution_count": null,
      "outputs": []
    },
    {
      "cell_type": "code",
      "source": [
        "model.add(Dense(units=10, activation='softmax'))"
      ],
      "metadata": {
        "id": "81geSVPEENoi"
      },
      "execution_count": null,
      "outputs": []
    },
    {
      "cell_type": "code",
      "source": [
        "from tensorflow.keras.utils import plot_model"
      ],
      "metadata": {
        "id": "r9aD6zfcCtWz"
      },
      "execution_count": null,
      "outputs": []
    },
    {
      "cell_type": "code",
      "source": [
        "plot_model(model, show_shapes=True)"
      ],
      "metadata": {
        "colab": {
          "base_uri": "https://localhost:8080/",
          "height": 976
        },
        "id": "pPdZOVWgC0Jf",
        "outputId": "5fd407ec-6795-4a36-e146-1ebe0c8e4a59"
      },
      "execution_count": null,
      "outputs": [
        {
          "output_type": "execute_result",
          "data": {
            "image/png": "[encoded data removed]",
            "text/plain": [
              "<IPython.core.display.Image object>"
            ]
          },
          "metadata": {},
          "execution_count": 30
        }
      ]
    },
    {
      "cell_type": "markdown",
      "source": [
        "###4.모델 컴파일"
      ],
      "metadata": {
        "id": "5-BN7R5TF1aI"
      }
    },
    {
      "cell_type": "code",
      "source": [
        "model.compile(optimizer='adam',\n",
        "              loss='categorical_crossentropy',\n",
        "              metrics=['accuracy'])"
      ],
      "metadata": {
        "id": "_4zoBCEXFzz7"
      },
      "execution_count": null,
      "outputs": []
    },
    {
      "cell_type": "markdown",
      "source": [
        "모델훈련"
      ],
      "metadata": {
        "id": "2zCM2-zDGqO8"
      }
    },
    {
      "cell_type": "code",
      "source": [
        "refinedXtrain.shape"
      ],
      "metadata": {
        "colab": {
          "base_uri": "https://localhost:8080/"
        },
        "id": "tYzYyEyYG3b7",
        "outputId": "0b22f44e-bbb4-4573-c96e-17f3bc10d689"
      },
      "execution_count": null,
      "outputs": [
        {
          "output_type": "execute_result",
          "data": {
            "text/plain": [
              "(60000, 28, 28, 1)"
            ]
          },
          "metadata": {},
          "execution_count": 32
        }
      ]
    },
    {
      "cell_type": "code",
      "source": [
        "model.fit(x=refinedXtrain,\n",
        "          y=refinedYtrain,\n",
        "          epochs=10, # 전체 이미지 몇번이나 반복학습할지\n",
        "          batch_size=32, # 모델 weight 업데이트를 32장만 보고 업데이트\n",
        "          validation_split=0.2)"
      ],
      "metadata": {
        "colab": {
          "base_uri": "https://localhost:8080/"
        },
        "id": "3Sm4f6boGrYL",
        "outputId": "4c2ed1e5-faf1-49ae-bfad-6f1447338e48"
      },
      "execution_count": null,
      "outputs": [
        {
          "output_type": "stream",
          "name": "stdout",
          "text": [
            "Epoch 1/10\n",
            "1500/1500 [==============================] - 13s 5ms/step - loss: 0.8990 - accuracy: 0.7337 - val_loss: 0.4297 - val_accuracy: 0.8442\n",
            "Epoch 2/10\n",
            "1500/1500 [==============================] - 7s 5ms/step - loss: 0.5054 - accuracy: 0.8164 - val_loss: 0.3723 - val_accuracy: 0.8636\n",
            "Epoch 3/10\n",
            "1500/1500 [==============================] - 7s 5ms/step - loss: 0.4498 - accuracy: 0.8359 - val_loss: 0.3652 - val_accuracy: 0.8654\n",
            "Epoch 4/10\n",
            "1500/1500 [==============================] - 9s 6ms/step - loss: 0.4160 - accuracy: 0.8496 - val_loss: 0.3277 - val_accuracy: 0.8780\n",
            "Epoch 5/10\n",
            "1500/1500 [==============================] - 6s 4ms/step - loss: 0.3934 - accuracy: 0.8550 - val_loss: 0.3147 - val_accuracy: 0.8827\n",
            "Epoch 6/10\n",
            "1500/1500 [==============================] - 7s 5ms/step - loss: 0.3737 - accuracy: 0.8614 - val_loss: 0.3019 - val_accuracy: 0.8891\n",
            "Epoch 7/10\n",
            "1500/1500 [==============================] - 7s 4ms/step - loss: 0.3611 - accuracy: 0.8660 - val_loss: 0.3047 - val_accuracy: 0.8851\n",
            "Epoch 8/10\n",
            "1500/1500 [==============================] - 7s 5ms/step - loss: 0.3530 - accuracy: 0.8690 - val_loss: 0.2921 - val_accuracy: 0.8950\n",
            "Epoch 9/10\n",
            "1500/1500 [==============================] - 7s 4ms/step - loss: 0.3410 - accuracy: 0.8749 - val_loss: 0.2909 - val_accuracy: 0.8925\n",
            "Epoch 10/10\n",
            "1500/1500 [==============================] - 8s 5ms/step - loss: 0.3401 - accuracy: 0.8751 - val_loss: 0.2773 - val_accuracy: 0.8969\n"
          ]
        },
        {
          "output_type": "execute_result",
          "data": {
            "text/plain": [
              "<keras.src.callbacks.History at 0x794192118e20>"
            ]
          },
          "metadata": {},
          "execution_count": 33
        }
      ]
    },
    {
      "cell_type": "code",
      "source": [],
      "metadata": {
        "id": "Ids_RBR0IMof"
      },
      "execution_count": null,
      "outputs": []
    },
    {
      "cell_type": "markdown",
      "source": [],
      "metadata": {
        "id": "2nEA3X7mUR5M"
      }
    },
    {
      "cell_type": "code",
      "source": [
        "import cv2 ##computer vision 임"
      ],
      "metadata": {
        "id": "xi1CehsJUSzS"
      },
      "execution_count": null,
      "outputs": []
    },
    {
      "cell_type": "code",
      "source": [
        "inImg = cv2.imread(\"./shirt.jpg\", cv2.IMREAD_COLOR)"
      ],
      "metadata": {
        "id": "5qacHVcUWes9"
      },
      "execution_count": null,
      "outputs": []
    },
    {
      "cell_type": "code",
      "source": [
        "refinedImg= cv2.cvtColor(inImg, cv2.COLOR_BGR2GRAY)"
      ],
      "metadata": {
        "colab": {
          "base_uri": "https://localhost:8080/",
          "height": 148
        },
        "id": "adioQE_cXWQw",
        "outputId": "83ecb797-8657-40ad-e488-50583b995b3a"
      },
      "execution_count": null,
      "outputs": [
        {
          "output_type": "error",
          "ename": "error",
          "evalue": "OpenCV(4.8.0) /io/opencv/modules/imgproc/src/color.cpp:182: error: (-215:Assertion failed) !_src.empty() in function 'cvtColor'\n",
          "traceback": [
            "\u001b[0;31m---------------------------------------------------------------------------\u001b[0m",
            "\u001b[0;31merror\u001b[0m                                     Traceback (most recent call last)",
            "\u001b[0;32m<ipython-input-47-f30cc99c19af>\u001b[0m in \u001b[0;36m<cell line: 1>\u001b[0;34m()\u001b[0m\n\u001b[0;32m----> 1\u001b[0;31m \u001b[0mrefinedImg\u001b[0m\u001b[0;34m=\u001b[0m \u001b[0mcv2\u001b[0m\u001b[0;34m.\u001b[0m\u001b[0mcvtColor\u001b[0m\u001b[0;34m(\u001b[0m\u001b[0minImg\u001b[0m\u001b[0;34m,\u001b[0m \u001b[0mcv2\u001b[0m\u001b[0;34m.\u001b[0m\u001b[0mCOLOR_BGR2GRAY\u001b[0m\u001b[0;34m)\u001b[0m\u001b[0;34m\u001b[0m\u001b[0;34m\u001b[0m\u001b[0m\n\u001b[0m",
            "\u001b[0;31merror\u001b[0m: OpenCV(4.8.0) /io/opencv/modules/imgproc/src/color.cpp:182: error: (-215:Assertion failed) !_src.empty() in function 'cvtColor'\n"
          ]
        }
      ]
    },
    {
      "cell_type": "code",
      "source": [
        "#이미지 사이즈조정하기 cv2.resize(이미지 변수, 조정사이즈)\n",
        "#이미지 컬러 조정하기"
      ],
      "metadata": {
        "id": "sSRhZ9gQWyxe"
      },
      "execution_count": null,
      "outputs": []
    },
    {
      "cell_type": "code",
      "source": [
        "inputImg = x_test[25] #이미지 가져오기"
      ],
      "metadata": {
        "id": "O8FTGCciUTLX"
      },
      "execution_count": null,
      "outputs": []
    },
    {
      "cell_type": "code",
      "source": [
        "refinedShapeImg = inputImg.reshape(1,28,28,1)  #이미지 전처리 형태랑 동일하게 설정"
      ],
      "metadata": {
        "id": "HgucQiX8UTIt"
      },
      "execution_count": null,
      "outputs": []
    },
    {
      "cell_type": "code",
      "source": [
        "predictValue= model.predict(refinedShapeImg)  #예측"
      ],
      "metadata": {
        "colab": {
          "base_uri": "https://localhost:8080/"
        },
        "id": "cAj1kE_rU9lV",
        "outputId": "1e6b0ee3-b74f-4994-8fdb-9dc690a66e49"
      },
      "execution_count": null,
      "outputs": [
        {
          "output_type": "stream",
          "name": "stdout",
          "text": [
            "1/1 [==============================] - 0s 18ms/step\n"
          ]
        }
      ]
    },
    {
      "cell_type": "code",
      "source": [
        "np.argmax(predictValue)"
      ],
      "metadata": {
        "colab": {
          "base_uri": "https://localhost:8080/"
        },
        "id": "LISloHF_U_3U",
        "outputId": "fa8dbc42-c7cd-4d18-d1f4-0f86cdc25b6c"
      },
      "execution_count": null,
      "outputs": [
        {
          "output_type": "execute_result",
          "data": {
            "text/plain": [
              "6"
            ]
          },
          "metadata": {},
          "execution_count": 40
        }
      ]
    },
    {
      "cell_type": "code",
      "source": [
        "import cv2 # Computer Vision\n",
        "inImg = cv2.imread(\"./shirt.jpg\", cv2.IMREAD_COLOR)\n",
        "# 이미지 컬러 동일하게 설정\n",
        "refinedImg = cv2.cvtColor( inImg, cv2.COLOR_BGR2GRAY )\n",
        "# 이미지 크기 조정\n",
        "refinedSizeImg = cv2.resize( refinedImg, (28,28))\n",
        "refinedShapeImg = refinedSizeImg.reshape(1,28,28,1)\n",
        "model.predict(refinedShapeImg)"
      ],
      "metadata": {
        "colab": {
          "base_uri": "https://localhost:8080/"
        },
        "id": "XOL6MYMUZViT",
        "outputId": "448f5f19-1db1-451b-a7ec-f580d3f11552"
      },
      "execution_count": null,
      "outputs": [
        {
          "output_type": "stream",
          "name": "stdout",
          "text": [
            "1/1 [==============================] - 0s 23ms/step\n"
          ]
        },
        {
          "output_type": "execute_result",
          "data": {
            "text/plain": [
              "array([[3.2572698e-02, 5.1084411e-04, 8.2571926e-03, 3.0291811e-04,\n",
              "        7.3602569e-04, 1.6066240e-02, 1.4660176e-03, 5.1385919e-03,\n",
              "        9.3444937e-01, 5.0008664e-04]], dtype=float32)"
            ]
          },
          "metadata": {},
          "execution_count": 55
        }
      ]
    },
    {
      "cell_type": "markdown",
      "source": [
        "##1. 데이터 불러오기"
      ],
      "metadata": {
        "id": "eK7HpmaXlrJs"
      }
    },
    {
      "cell_type": "code",
      "source": [
        "from google.colab import drive"
      ],
      "metadata": {
        "id": "K1aE9qSfblhG"
      },
      "execution_count": null,
      "outputs": []
    },
    {
      "cell_type": "code",
      "source": [
        "drive.mount(\"/content/gdrive\")"
      ],
      "metadata": {
        "colab": {
          "base_uri": "https://localhost:8080/"
        },
        "id": "XSv-UZTFlvS9",
        "outputId": "cfc2d3f9-e142-4efd-938a-e8d63cacf268"
      },
      "execution_count": null,
      "outputs": [
        {
          "output_type": "stream",
          "name": "stdout",
          "text": [
            "Mounted at /content/gdrive\n"
          ]
        }
      ]
    },
    {
      "cell_type": "code",
      "source": [
        "%cd /content/drive/MyDrive/Colab Notebooks/code2024/Session09 - 시각인지"
      ],
      "metadata": {
        "id": "dgPCz2Iglx-A",
        "colab": {
          "base_uri": "https://localhost:8080/"
        },
        "outputId": "17c04f9c-245c-4c4c-8bd9-cd76204a08f3"
      },
      "execution_count": null,
      "outputs": [
        {
          "output_type": "stream",
          "name": "stdout",
          "text": [
            "/content/drive/MyDrive/Colab Notebooks/code2024/Session09 - 시각인지\n"
          ]
        }
      ]
    },
    {
      "cell_type": "code",
      "source": [
        "import cv2"
      ],
      "metadata": {
        "id": "i7GqxPKcmulq"
      },
      "execution_count": null,
      "outputs": []
    },
    {
      "cell_type": "code",
      "source": [
        "trainX=[]\n",
        "trainY=[]"
      ],
      "metadata": {
        "id": "zcWCrAi2pHPZ"
      },
      "execution_count": null,
      "outputs": []
    },
    {
      "cell_type": "code",
      "source": [
        "import os"
      ],
      "metadata": {
        "id": "7xKu3nsmp8RV"
      },
      "execution_count": null,
      "outputs": []
    },
    {
      "cell_type": "code",
      "source": [
        "baseDir = \"../images/genders/\""
      ],
      "metadata": {
        "id": "CIIZcE59p932"
      },
      "execution_count": null,
      "outputs": []
    },
    {
      "cell_type": "code",
      "source": [
        "folderList = os.listdir(baseDir)"
      ],
      "metadata": {
        "id": "srvbF1zSqG19"
      },
      "execution_count": null,
      "outputs": []
    },
    {
      "cell_type": "code",
      "source": [
        "eachFolder = folderList[0]"
      ],
      "metadata": {
        "id": "9SxPkCv-qgop"
      },
      "execution_count": null,
      "outputs": []
    },
    {
      "cell_type": "code",
      "source": [
        "eachFolderFullpath = os.path.join(baseDir, eachFolder)\n",
        "eachFolderFullpath\n",
        "\n",
        "fullmgPath= os.listdir(eachFolderFullpath)"
      ],
      "metadata": {
        "id": "SzFc_2qqqok0"
      },
      "execution_count": null,
      "outputs": []
    },
    {
      "cell_type": "code",
      "source": [
        "eachImg = fullmgPath[0]"
      ],
      "metadata": {
        "id": "4YsarWllrTEO"
      },
      "execution_count": null,
      "outputs": []
    },
    {
      "cell_type": "code",
      "source": [
        "eachImg"
      ],
      "metadata": {
        "colab": {
          "base_uri": "https://localhost:8080/",
          "height": 36
        },
        "id": "icXfEzvWrb3q",
        "outputId": "60162d08-36f6-4c48-888e-f0f70636e992"
      },
      "execution_count": null,
      "outputs": [
        {
          "output_type": "execute_result",
          "data": {
            "text/plain": [
              "'32_0_3_20170119200204548.jpg.chip.jpg'"
            ],
            "application/vnd.google.colaboratory.intrinsic+json": {
              "type": "string"
            }
          },
          "metadata": {},
          "execution_count": 83
        }
      ]
    },
    {
      "cell_type": "code",
      "source": [
        "for i in range(0, len(fullmgPath)):\n",
        "\n",
        "eachImgPath= os.path.join(eachFolderFullpath, eachImg)\n",
        "inputImg = cv2.imread(eachImgPath, cv2.IMREAD_GRAYSCALE) #전처리 컬러 조정 그레이 스케일\n",
        "inputResizedImg = cv2.resize(inputImg, (28,28))  #전처리 사이즈 조정\n",
        "trainX.append(inputResizedImg)\n",
        "# 사진찍었음 걍 개오바다"
      ],
      "metadata": {
        "colab": {
          "base_uri": "https://localhost:8080/",
          "height": 111
        },
        "id": "okl8EBJ7rwx-",
        "outputId": "f2e80924-e6ef-46b3-a419-720351894b8f"
      },
      "execution_count": null,
      "outputs": [
        {
          "output_type": "error",
          "ename": "IndentationError",
          "evalue": "expected an indented block after 'for' statement on line 1 (<ipython-input-93-85cff4c326bf>, line 2)",
          "traceback": [
            "\u001b[0;36m  File \u001b[0;32m\"<ipython-input-93-85cff4c326bf>\"\u001b[0;36m, line \u001b[0;32m2\u001b[0m\n\u001b[0;31m    eachImgPath= os.path.join(eachFolderFullpath, eachImg)\u001b[0m\n\u001b[0m    ^\u001b[0m\n\u001b[0;31mIndentationError\u001b[0m\u001b[0;31m:\u001b[0m expected an indented block after 'for' statement on line 1\n"
          ]
        }
      ]
    },
    {
      "cell_type": "code",
      "source": [
        "eachImg= cv2.imread(\"../images/genders/female/1_1_0_20170109193014933.jpg.chip.jpg\")"
      ],
      "metadata": {
        "id": "fAMQlsD4ofcq"
      },
      "execution_count": null,
      "outputs": []
    },
    {
      "cell_type": "code",
      "source": [
        "trainX.append(eachImg)\n",
        "trainY.append(0)"
      ],
      "metadata": {
        "id": "iHyplhOWo6RT"
      },
      "execution_count": null,
      "outputs": []
    },
    {
      "cell_type": "code",
      "source": [
        "trainXData= np.array(trainX)\n",
        "trainYData= np.array(trainY)"
      ],
      "metadata": {
        "id": "3VOgdooNpWFZ"
      },
      "execution_count": null,
      "outputs": []
    },
    {
      "cell_type": "code",
      "source": [
        "trainXData.shape"
      ],
      "metadata": {
        "colab": {
          "base_uri": "https://localhost:8080/"
        },
        "id": "cE-w3Qm9pYIR",
        "outputId": "2afc0e9a-40a2-4adb-910f-4b6a6686d88a"
      },
      "execution_count": null,
      "outputs": [
        {
          "output_type": "execute_result",
          "data": {
            "text/plain": [
              "(1, 200, 200, 3)"
            ]
          },
          "metadata": {},
          "execution_count": 69
        }
      ]
    },
    {
      "cell_type": "code",
      "source": [],
      "metadata": {
        "id": "QCF8DVnmpw5f"
      },
      "execution_count": null,
      "outputs": []
    }
  ]
}